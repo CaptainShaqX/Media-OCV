{
 "cells": [
  {
   "cell_type": "code",
   "execution_count": 1,
   "id": "3844607b-939a-4bd4-a57b-62fded86cfdc",
   "metadata": {},
   "outputs": [],
   "source": [
    "import cv2"
   ]
  },
  {
   "cell_type": "code",
   "execution_count": 2,
   "id": "4593478c-b72d-49d6-88ac-5d510c45c949",
   "metadata": {},
   "outputs": [],
   "source": [
    "img = cv2.imread('TwoCatZ.jpeg')\n"
   ]
  },
  {
   "cell_type": "code",
   "execution_count": null,
   "id": "0349cb8a-d3b9-4153-83ee-d9a01b5bf7c9",
   "metadata": {},
   "outputs": [],
   "source": [
    "cv2.imshow(\"Image\", img)\n",
    "cv2.waitKey(0)\n",
    "cv2.destroyAllWindows()"
   ]
  },
  {
   "cell_type": "code",
   "execution_count": null,
   "id": "2bda73b3-ca07-44a4-bf92-87ac39459710",
   "metadata": {},
   "outputs": [],
   "source": [
    "img.shape"
   ]
  },
  {
   "cell_type": "code",
   "execution_count": null,
   "id": "78696a5b-b492-4609-a4bc-c6a442bf4995",
   "metadata": {},
   "outputs": [],
   "source": [
    "img = cv2.resize(img,(860,457))"
   ]
  },
  {
   "cell_type": "code",
   "execution_count": null,
   "id": "cff934f0-0ba2-4695-bd1d-453c96f5fe1b",
   "metadata": {},
   "outputs": [],
   "source": [
    "cv2.imshow(\"Image\", img)\n",
    "cv2.waitKey(0)\n",
    "cv2.destroyAllWindows()"
   ]
  },
  {
   "cell_type": "code",
   "execution_count": 9,
   "id": "4a19faf8-038c-4e2d-82d2-77d58d25dc1a",
   "metadata": {},
   "outputs": [],
   "source": [
    "gray = cv2.cvtColor(img, cv2.COLOR_BGR2GRAY)"
   ]
  },
  {
   "cell_type": "code",
   "execution_count": null,
   "id": "a6f619a3-750a-4ff0-8384-88093b0f8026",
   "metadata": {},
   "outputs": [],
   "source": [
    "cv2.imshow(\"grayscale\", gray)\n",
    "cv2.waitKey(0)\n",
    "cv2.destroyAllWindows()"
   ]
  },
  {
   "cell_type": "code",
   "execution_count": null,
   "id": "8616dd4e-694f-40f7-827f-52cf0889f3bc",
   "metadata": {},
   "outputs": [],
   "source": [
    "gray.shape"
   ]
  },
  {
   "cell_type": "code",
   "execution_count": null,
   "id": "838facac-8fb1-483a-8240-04fe811224dc",
   "metadata": {},
   "outputs": [],
   "source": [
    "hsv = cv2.cvtColor(img, vc2.COLOR_BGR2HSV)"
   ]
  },
  {
   "cell_type": "code",
   "execution_count": null,
   "id": "f0e13c6e-01ec-4876-8084-d5a9f9e03387",
   "metadata": {},
   "outputs": [],
   "source": [
    "cv2.imshow(\"grayscale\", gray)\n",
    "cv2.waitKey(0)\n",
    "cv2.destroyAllWindows()"
   ]
  }
 ],
 "metadata": {
  "kernelspec": {
   "display_name": "Python 3 (ipykernel)",
   "language": "python",
   "name": "python3"
  },
  "language_info": {
   "codemirror_mode": {
    "name": "ipython",
    "version": 3
   },
   "file_extension": ".py",
   "mimetype": "text/x-python",
   "name": "python",
   "nbconvert_exporter": "python",
   "pygments_lexer": "ipython3",
   "version": "3.12.2"
  }
 },
 "nbformat": 4,
 "nbformat_minor": 5
}
